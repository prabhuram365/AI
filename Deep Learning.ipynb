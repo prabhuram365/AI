{
  "cells": [
    {
      "cell_type": "code",
      "execution_count": null,
      "metadata": {
        "id": "erSZcykkVVoO"
      },
      "outputs": [],
      "source": [
        "import numpy as np\n",
        "import matplotlib.pyplot as plt\n",
        "import pandas as pd"
      ]
    },
    {
      "cell_type": "code",
      "execution_count": null,
      "metadata": {
        "id": "g5yfXJ5qVkVm"
      },
      "outputs": [],
      "source": [
        "mnist = tf.keras.datasets.mnist"
      ]
    },
    {
      "cell_type": "code",
      "execution_count": null,
      "metadata": {
        "id": "WejR531FWB8J"
      },
      "outputs": [],
      "source": [
        "(X_train_total, Y_train_total),(X_test,Y_test) = mnist.load_data()"
      ]
    },
    {
      "cell_type": "code",
      "execution_count": null,
      "metadata": {
        "colab": {
          "base_uri": "https://localhost:8080/"
        },
        "id": "Rfn48Gx2WUCx",
        "outputId": "4498d3e6-c3de-4700-a2f6-4be4bffdd59f"
      },
      "outputs": [
        {
          "output_type": "execute_result",
          "data": {
            "text/plain": [
              "(60000, 28, 28)"
            ]
          },
          "metadata": {},
          "execution_count": 25
        }
      ],
      "source": [
        "X_train_total.shape"
      ]
    },
    {
      "cell_type": "code",
      "execution_count": null,
      "metadata": {
        "colab": {
          "base_uri": "https://localhost:8080/"
        },
        "id": "yFDs9m9sWbgH",
        "outputId": "41ed7391-238f-49ec-9672-6fbfad02cc32"
      },
      "outputs": [
        {
          "output_type": "execute_result",
          "data": {
            "text/plain": [
              "(60000,)"
            ]
          },
          "metadata": {},
          "execution_count": 26
        }
      ],
      "source": [
        "Y_train_total.shape"
      ]
    },
    {
      "cell_type": "code",
      "execution_count": null,
      "metadata": {
        "colab": {
          "base_uri": "https://localhost:8080/"
        },
        "id": "P7lEQ5pIWju7",
        "outputId": "55c2349c-b8c2-40a6-b5ab-3a332bfe0014"
      },
      "outputs": [
        {
          "output_type": "execute_result",
          "data": {
            "text/plain": [
              "dtype('uint8')"
            ]
          },
          "metadata": {},
          "execution_count": 27
        }
      ],
      "source": [
        "X_train_total.dtype"
      ]
    },
    {
      "cell_type": "code",
      "execution_count": null,
      "metadata": {
        "id": "QbSVvwr4WqBV"
      },
      "outputs": [],
      "source": [
        "X_valid, X_train = X_train_total[:5000]/255. , X_train_total[5000:]/255.  "
      ]
    },
    {
      "cell_type": "code",
      "execution_count": null,
      "metadata": {
        "id": "uNofx9AlXIE0"
      },
      "outputs": [],
      "source": [
        "Y_valid, Y_train = Y_train_total[:5000] , Y_train_total[5000:] "
      ]
    },
    {
      "cell_type": "code",
      "execution_count": null,
      "metadata": {
        "colab": {
          "base_uri": "https://localhost:8080/",
          "height": 283
        },
        "id": "rQBw6vuSXVPp",
        "outputId": "d4e05653-c815-4138-d362-6ee8ed06543f"
      },
      "outputs": [
        {
          "output_type": "execute_result",
          "data": {
            "text/plain": [
              "<matplotlib.image.AxesImage at 0x7f32a05c9a90>"
            ]
          },
          "metadata": {},
          "execution_count": 18
        },
        {
          "output_type": "display_data",
          "data": {
            "image/png": "[encoded data removed]",
            "text/plain": [
              "<Figure size 432x288 with 1 Axes>"
            ]
          },
          "metadata": {
            "needs_background": "light"
          }
        }
      ],
      "source": [
        "plt.imshow(X_train[0], cmap = \"binary\")"
      ]
    },
    {
      "cell_type": "code",
      "execution_count": null,
      "metadata": {
        "id": "FTq-YvDh3jHH"
      },
      "outputs": [],
      "source": [
        "LAYERS = [tf.keras.layers.Flatten(input_shape=[28, 28], name=\"inputLayer\"),\n",
        "          tf.keras.layers.Dense(300, activation=\"relu\", name=\"hiddenLayer1\"),\n",
        "          tf.keras.layers.Dense(100, activation=\"relu\", name=\"hiddenLayer2\"),\n",
        "          tf.keras.layers.Dense(10, activation=\"softmax\", name=\"outputLayer\")]"
      ]
    },
    {
      "cell_type": "code",
      "execution_count": null,
      "metadata": {
        "id": "9Pf6GAWM3m_X"
      },
      "outputs": [],
      "source": [
        "model_clf = tf.keras.models.Sequential(LAYERS)"
      ]
    },
    {
      "cell_type": "code",
      "execution_count": null,
      "metadata": {
        "colab": {
          "base_uri": "https://localhost:8080/"
        },
        "id": "SBWY3pwT3r1V",
        "outputId": "bdc63c88-5002-442d-b678-28a974ceb698"
      },
      "outputs": [
        {
          "output_type": "execute_result",
          "data": {
            "text/plain": [
              "[<keras.layers.core.flatten.Flatten at 0x7f32a041b210>,\n",
              " <keras.layers.core.dense.Dense at 0x7f32b1eca3d0>,\n",
              " <keras.layers.core.dense.Dense at 0x7f322d538f90>,\n",
              " <keras.layers.core.dense.Dense at 0x7f322d515790>]"
            ]
          },
          "metadata": {},
          "execution_count": 32
        }
      ],
      "source": [
        "model_clf.layers"
      ]
    },
    {
      "cell_type": "code",
      "execution_count": null,
      "metadata": {
        "colab": {
          "base_uri": "https://localhost:8080/"
        },
        "id": "alZ_odD83r4W",
        "outputId": "14728de3-da13-4f44-abde-0891ea4f2945"
      },
      "outputs": [
        {
          "output_type": "stream",
          "name": "stdout",
          "text": [
            "Model: \"sequential\"\n",
            "_________________________________________________________________\n",
            " Layer (type)                Output Shape              Param #   \n",
            "=================================================================\n",
            " inputLayer (Flatten)        (None, 784)               0         \n",
            "                                                                 \n",
            " hiddenLayer1 (Dense)        (None, 300)               235500    \n",
            "                                                                 \n",
            " hiddenLayer2 (Dense)        (None, 100)               30100     \n",
            "                                                                 \n",
            " outputLayer (Dense)         (None, 10)                1010      \n",
            "                                                                 \n",
            "=================================================================\n",
            "Total params: 266,610\n",
            "Trainable params: 266,610\n",
            "Non-trainable params: 0\n",
            "_________________________________________________________________\n"
          ]
        }
      ],
      "source": [
        "model_clf.summary()"
      ]
    },
    {
      "cell_type": "markdown",
      "metadata": {
        "id": "Z4kXA-dg4MkW"
      },
      "source": [
        ""
      ]
    },
    {
      "cell_type": "code",
      "execution_count": null,
      "metadata": {
        "id": "lSrxNvjq4VLm"
      },
      "outputs": [],
      "source": [
        "LOSS_FUNCTION = \"sparse_categorical_crossentropy\" # use => tf.losses.sparse_categorical_crossentropy\n",
        "OPTIMIZER = \"SGD\" # or use with custom learning rate=> tf.keras.optimizers.SGD(0.02)\n",
        "METRICS = [\"accuracy\"]"
      ]
    },
    {
      "cell_type": "code",
      "execution_count": null,
      "metadata": {
        "id": "fs9jpteJ5HMe"
      },
      "outputs": [],
      "source": [
        "model_clf.compile(loss=LOSS_FUNCTION,\n",
        "              optimizer=OPTIMIZER,\n",
        "              metrics=METRICS)"
      ]
    },
    {
      "cell_type": "code",
      "execution_count": null,
      "metadata": {
        "colab": {
          "base_uri": "https://localhost:8080/"
        },
        "id": "tGBuPfWN4VO2",
        "outputId": "a6db8e9e-5a0a-4519-8c6f-b7d8be2668d0"
      },
      "outputs": [
        {
          "output_type": "stream",
          "name": "stdout",
          "text": [
            "Epoch 1/30\n",
            "1719/1719 [==============================] - 7s 3ms/step - loss: 0.6251 - accuracy: 0.8409 - val_loss: 0.3142 - val_accuracy: 0.9124\n",
            "Epoch 2/30\n",
            "1719/1719 [==============================] - 5s 3ms/step - loss: 0.2903 - accuracy: 0.9179 - val_loss: 0.2527 - val_accuracy: 0.9294\n",
            "Epoch 3/30\n",
            "1719/1719 [==============================] - 5s 3ms/step - loss: 0.2374 - accuracy: 0.9329 - val_loss: 0.2078 - val_accuracy: 0.9410\n",
            "Epoch 4/30\n",
            "1719/1719 [==============================] - 5s 3ms/step - loss: 0.2024 - accuracy: 0.9421 - val_loss: 0.1847 - val_accuracy: 0.9482\n",
            "Epoch 5/30\n",
            "1719/1719 [==============================] - 5s 3ms/step - loss: 0.1772 - accuracy: 0.9490 - val_loss: 0.1619 - val_accuracy: 0.9560\n",
            "Epoch 6/30\n",
            "1719/1719 [==============================] - 5s 3ms/step - loss: 0.1573 - accuracy: 0.9551 - val_loss: 0.1490 - val_accuracy: 0.9598\n",
            "Epoch 7/30\n",
            "1719/1719 [==============================] - 5s 3ms/step - loss: 0.1413 - accuracy: 0.9596 - val_loss: 0.1400 - val_accuracy: 0.9604\n",
            "Epoch 8/30\n",
            "1719/1719 [==============================] - 5s 3ms/step - loss: 0.1276 - accuracy: 0.9635 - val_loss: 0.1292 - val_accuracy: 0.9652\n",
            "Epoch 9/30\n",
            "1719/1719 [==============================] - 5s 3ms/step - loss: 0.1166 - accuracy: 0.9667 - val_loss: 0.1188 - val_accuracy: 0.9686\n",
            "Epoch 10/30\n",
            "1719/1719 [==============================] - 5s 3ms/step - loss: 0.1071 - accuracy: 0.9697 - val_loss: 0.1167 - val_accuracy: 0.9688\n",
            "Epoch 11/30\n",
            "1719/1719 [==============================] - 5s 3ms/step - loss: 0.0984 - accuracy: 0.9718 - val_loss: 0.1100 - val_accuracy: 0.9682\n",
            "Epoch 12/30\n",
            "1719/1719 [==============================] - 5s 3ms/step - loss: 0.0913 - accuracy: 0.9741 - val_loss: 0.1037 - val_accuracy: 0.9698\n",
            "Epoch 13/30\n",
            "1719/1719 [==============================] - 5s 3ms/step - loss: 0.0847 - accuracy: 0.9764 - val_loss: 0.1003 - val_accuracy: 0.9710\n",
            "Epoch 14/30\n",
            "1719/1719 [==============================] - 5s 3ms/step - loss: 0.0789 - accuracy: 0.9778 - val_loss: 0.0958 - val_accuracy: 0.9722\n",
            "Epoch 15/30\n",
            "1719/1719 [==============================] - 5s 3ms/step - loss: 0.0736 - accuracy: 0.9792 - val_loss: 0.0924 - val_accuracy: 0.9736\n",
            "Epoch 16/30\n",
            "1719/1719 [==============================] - 5s 3ms/step - loss: 0.0686 - accuracy: 0.9807 - val_loss: 0.0893 - val_accuracy: 0.9736\n",
            "Epoch 17/30\n",
            "1719/1719 [==============================] - 5s 3ms/step - loss: 0.0642 - accuracy: 0.9819 - val_loss: 0.0879 - val_accuracy: 0.9740\n",
            "Epoch 18/30\n",
            "1719/1719 [==============================] - 5s 3ms/step - loss: 0.0601 - accuracy: 0.9832 - val_loss: 0.0869 - val_accuracy: 0.9738\n",
            "Epoch 19/30\n",
            "1719/1719 [==============================] - 5s 3ms/step - loss: 0.0567 - accuracy: 0.9845 - val_loss: 0.0855 - val_accuracy: 0.9764\n",
            "Epoch 20/30\n",
            "1719/1719 [==============================] - 5s 3ms/step - loss: 0.0531 - accuracy: 0.9857 - val_loss: 0.0875 - val_accuracy: 0.9750\n",
            "Epoch 21/30\n",
            "1719/1719 [==============================] - 5s 3ms/step - loss: 0.0497 - accuracy: 0.9864 - val_loss: 0.0792 - val_accuracy: 0.9772\n",
            "Epoch 22/30\n",
            "1719/1719 [==============================] - 5s 3ms/step - loss: 0.0472 - accuracy: 0.9875 - val_loss: 0.0798 - val_accuracy: 0.9758\n",
            "Epoch 23/30\n",
            "1719/1719 [==============================] - 5s 3ms/step - loss: 0.0443 - accuracy: 0.9884 - val_loss: 0.0777 - val_accuracy: 0.9784\n",
            "Epoch 24/30\n",
            "1719/1719 [==============================] - 5s 3ms/step - loss: 0.0418 - accuracy: 0.9889 - val_loss: 0.0772 - val_accuracy: 0.9776\n",
            "Epoch 25/30\n",
            "1719/1719 [==============================] - 5s 3ms/step - loss: 0.0392 - accuracy: 0.9898 - val_loss: 0.0767 - val_accuracy: 0.9774\n",
            "Epoch 26/30\n",
            "1719/1719 [==============================] - 5s 3ms/step - loss: 0.0369 - accuracy: 0.9909 - val_loss: 0.0748 - val_accuracy: 0.9778\n",
            "Epoch 27/30\n",
            "1719/1719 [==============================] - 5s 3ms/step - loss: 0.0348 - accuracy: 0.9914 - val_loss: 0.0749 - val_accuracy: 0.9786\n",
            "Epoch 28/30\n",
            "1719/1719 [==============================] - 5s 3ms/step - loss: 0.0330 - accuracy: 0.9917 - val_loss: 0.0737 - val_accuracy: 0.9802\n",
            "Epoch 29/30\n",
            "1719/1719 [==============================] - 5s 3ms/step - loss: 0.0311 - accuracy: 0.9927 - val_loss: 0.0760 - val_accuracy: 0.9784\n",
            "Epoch 30/30\n",
            "1719/1719 [==============================] - 5s 3ms/step - loss: 0.0295 - accuracy: 0.9928 - val_loss: 0.0726 - val_accuracy: 0.9792\n"
          ]
        }
      ],
      "source": [
        "EPOCHS = 30\n",
        "VALIDATION_SET = (X_valid, Y_valid)\n",
        "\n",
        "history = model_clf.fit(X_train, Y_train, epochs=EPOCHS,\n",
        "                    validation_data=VALIDATION_SET)"
      ]
    }
  ],
  "metadata": {
    "accelerator": "GPU",
    "colab": {
      "name": "ANN2.ipynb",
      "provenance": []
    },
    "kernelspec": {
      "display_name": "Python 3",
      "name": "python3"
    },
    "language_info": {
      "name": "python"
    }
  },
  "nbformat": 4,
  "nbformat_minor": 0
}